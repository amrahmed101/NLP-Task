{
 "cells": [
  {
   "cell_type": "markdown",
   "id": "6e92e20b",
   "metadata": {},
   "source": [
    "<center> <h1> <br>Machine Learning Internship Task <br>\n",
    "<br>Job title : Classification by industry<br>\n",
    "<br>(Multi-text Text Classification Task)<br> </h1> </center>"
   ]
  },
  {
   "cell_type": "markdown",
   "id": "d0e43bf6",
   "metadata": {},
   "source": [
    "<br><b>Task Description:</b><br>\n",
    "<br>Leveraging the use of a machine learning classifier to classify job titles by the industry.<br>"
   ]
  },
  {
   "cell_type": "markdown",
   "id": "b043b37e",
   "metadata": {},
   "source": [
    "<br>Importing Libraries<br>"
   ]
  },
  {
   "cell_type": "code",
   "execution_count": 1,
   "id": "31336509",
   "metadata": {},
   "outputs": [],
   "source": [
    "import pandas as pd\n",
    "import numpy as np\n",
    "import matplotlib.pyplot as plt\n",
    "import seaborn as sns"
   ]
  },
  {
   "cell_type": "code",
   "execution_count": 2,
   "id": "f780c547",
   "metadata": {},
   "outputs": [],
   "source": [
    "from sklearn.model_selection import train_test_split\n",
    "from sklearn.feature_extraction.text import TfidfVectorizer\n",
    "from sklearn.naive_bayes import MultinomialNB\n",
    "from sklearn.ensemble import RandomForestClassifier\n",
    "from sklearn.svm import SVC\n",
    "from imblearn.pipeline import make_pipeline"
   ]
  },
  {
   "cell_type": "code",
   "execution_count": 3,
   "id": "30d0f319",
   "metadata": {},
   "outputs": [],
   "source": [
    "from imblearn.over_sampling import SMOTE\n",
    "from imblearn.under_sampling import RandomUnderSampler \n",
    "from sklearn.svm import SVC"
   ]
  },
  {
   "cell_type": "code",
   "execution_count": 4,
   "id": "7a138596",
   "metadata": {},
   "outputs": [],
   "source": [
    "from sklearn.metrics import accuracy_score"
   ]
  },
  {
   "cell_type": "code",
   "execution_count": 5,
   "id": "e7b8a3e6",
   "metadata": {},
   "outputs": [],
   "source": [
    "import gensim\n",
    "from gensim.utils import simple_preprocess\n",
    "from nltk.corpus import stopwords\n",
    "import nltk\n",
    "import re\n",
    "import scipy.stats as stats\n",
    "from matplotlib.pyplot import figure\n",
    "import warnings\n",
    "warnings.filterwarnings(\"ignore\")"
   ]
  },
  {
   "cell_type": "markdown",
   "id": "17d5f446",
   "metadata": {},
   "source": [
    "<center> <h1> Exploratory Data Analysis </h1> </center> \n",
    "\n",
    "\n",
    "\n",
    "### Data Attributes:\n",
    "\n",
    "    1.  Job Title: the input predictor for the task.\n",
    "    2.  Industry: the corresponding industry for the job title which will be the target class in this case."
   ]
  },
  {
   "cell_type": "code",
   "execution_count": 6,
   "id": "708523e0",
   "metadata": {},
   "outputs": [
    {
     "data": {
      "text/html": [
       "<div>\n",
       "<style scoped>\n",
       "    .dataframe tbody tr th:only-of-type {\n",
       "        vertical-align: middle;\n",
       "    }\n",
       "\n",
       "    .dataframe tbody tr th {\n",
       "        vertical-align: top;\n",
       "    }\n",
       "\n",
       "    .dataframe thead th {\n",
       "        text-align: right;\n",
       "    }\n",
       "</style>\n",
       "<table border=\"1\" class=\"dataframe\">\n",
       "  <thead>\n",
       "    <tr style=\"text-align: right;\">\n",
       "      <th></th>\n",
       "      <th>job title</th>\n",
       "      <th>industry</th>\n",
       "    </tr>\n",
       "  </thead>\n",
       "  <tbody>\n",
       "    <tr>\n",
       "      <th>0</th>\n",
       "      <td>technical support and helpdesk supervisor - co...</td>\n",
       "      <td>IT</td>\n",
       "    </tr>\n",
       "    <tr>\n",
       "      <th>1</th>\n",
       "      <td>senior technical support engineer</td>\n",
       "      <td>IT</td>\n",
       "    </tr>\n",
       "    <tr>\n",
       "      <th>2</th>\n",
       "      <td>head of it services</td>\n",
       "      <td>IT</td>\n",
       "    </tr>\n",
       "    <tr>\n",
       "      <th>3</th>\n",
       "      <td>js front end engineer</td>\n",
       "      <td>IT</td>\n",
       "    </tr>\n",
       "    <tr>\n",
       "      <th>4</th>\n",
       "      <td>network and telephony controller</td>\n",
       "      <td>IT</td>\n",
       "    </tr>\n",
       "  </tbody>\n",
       "</table>\n",
       "</div>"
      ],
      "text/plain": [
       "                                           job title industry\n",
       "0  technical support and helpdesk supervisor - co...       IT\n",
       "1                  senior technical support engineer       IT\n",
       "2                                head of it services       IT\n",
       "3                              js front end engineer       IT\n",
       "4                   network and telephony controller       IT"
      ]
     },
     "execution_count": 6,
     "metadata": {},
     "output_type": "execute_result"
    }
   ],
   "source": [
    "#Reading the data, viewing the top part of the data\n",
    "data  = pd.read_csv(r\"Job titles and industries.csv\")\n",
    "data.head()"
   ]
  },
  {
   "cell_type": "code",
   "execution_count": 7,
   "id": "269ede14",
   "metadata": {},
   "outputs": [
    {
     "name": "stdout",
     "output_type": "stream",
     "text": [
      "<class 'pandas.core.frame.DataFrame'>\n",
      "RangeIndex: 8586 entries, 0 to 8585\n",
      "Data columns (total 2 columns):\n",
      " #   Column     Non-Null Count  Dtype \n",
      "---  ------     --------------  ----- \n",
      " 0   job title  8586 non-null   object\n",
      " 1   industry   8586 non-null   object\n",
      "dtypes: object(2)\n",
      "memory usage: 134.3+ KB\n"
     ]
    }
   ],
   "source": [
    "#data information\n",
    "data.info()"
   ]
  },
  {
   "cell_type": "code",
   "execution_count": 8,
   "id": "189bc451",
   "metadata": {},
   "outputs": [
    {
     "data": {
      "text/plain": [
       "Index(['job title', 'industry'], dtype='object')"
      ]
     },
     "execution_count": 8,
     "metadata": {},
     "output_type": "execute_result"
    }
   ],
   "source": [
    "#data columns\n",
    "data_heads=data.columns\n",
    "data_heads"
   ]
  },
  {
   "cell_type": "code",
   "execution_count": 9,
   "id": "e5a51c8f",
   "metadata": {},
   "outputs": [
    {
     "data": {
      "text/plain": [
       "True     4618\n",
       "False    3968\n",
       "dtype: int64"
      ]
     },
     "execution_count": 9,
     "metadata": {},
     "output_type": "execute_result"
    }
   ],
   "source": [
    "data.duplicated().value_counts()"
   ]
  },
  {
   "cell_type": "code",
   "execution_count": 10,
   "id": "46e5a51c",
   "metadata": {},
   "outputs": [
    {
     "name": "stdout",
     "output_type": "stream",
     "text": [
      "Duplicate Rows except first occurrence based on all columns are :\n",
      "                                job title   industry\n",
      "7     devops engineers x 3 - global brand         IT\n",
      "10    devops engineers x 3 - global brand         IT\n",
      "11    devops engineers x 3 - global brand         IT\n",
      "26                       business analyst         IT\n",
      "36                         .net developer         IT\n",
      "...                                   ...        ...\n",
      "8572                      telesales agent  Marketing\n",
      "8575                        sales manager  Marketing\n",
      "8576  marketing & social media specialist  Marketing\n",
      "8580                 marketing specialist  Marketing\n",
      "8582                      content creator  Marketing\n",
      "\n",
      "[4618 rows x 2 columns]\n"
     ]
    }
   ],
   "source": [
    "#Checking for duplicated values\n",
    "duplicateRowsDF = data[data.duplicated()]\n",
    "print(\"Duplicate Rows except first occurrence based on all columns are :\")\n",
    "print(duplicateRowsDF)"
   ]
  },
  {
   "cell_type": "code",
   "execution_count": 11,
   "id": "26e8670b",
   "metadata": {},
   "outputs": [
    {
     "data": {
      "text/plain": [
       "job title    0\n",
       "industry     0\n",
       "dtype: int64"
      ]
     },
     "execution_count": 11,
     "metadata": {},
     "output_type": "execute_result"
    }
   ],
   "source": [
    "#checking if the data has null values\n",
    "data[data_heads].isnull().sum()"
   ]
  },
  {
   "cell_type": "code",
   "execution_count": 12,
   "id": "7229e40f",
   "metadata": {},
   "outputs": [
    {
     "data": {
      "text/html": [
       "<div>\n",
       "<style scoped>\n",
       "    .dataframe tbody tr th:only-of-type {\n",
       "        vertical-align: middle;\n",
       "    }\n",
       "\n",
       "    .dataframe tbody tr th {\n",
       "        vertical-align: top;\n",
       "    }\n",
       "\n",
       "    .dataframe thead th {\n",
       "        text-align: right;\n",
       "    }\n",
       "</style>\n",
       "<table border=\"1\" class=\"dataframe\">\n",
       "  <thead>\n",
       "    <tr style=\"text-align: right;\">\n",
       "      <th></th>\n",
       "      <th>count</th>\n",
       "      <th>unique</th>\n",
       "      <th>top</th>\n",
       "      <th>freq</th>\n",
       "    </tr>\n",
       "  </thead>\n",
       "  <tbody>\n",
       "    <tr>\n",
       "      <th>job title</th>\n",
       "      <td>8586</td>\n",
       "      <td>3890</td>\n",
       "      <td>marketing executive</td>\n",
       "      <td>91</td>\n",
       "    </tr>\n",
       "    <tr>\n",
       "      <th>industry</th>\n",
       "      <td>8586</td>\n",
       "      <td>4</td>\n",
       "      <td>IT</td>\n",
       "      <td>4746</td>\n",
       "    </tr>\n",
       "  </tbody>\n",
       "</table>\n",
       "</div>"
      ],
      "text/plain": [
       "          count unique                  top  freq\n",
       "job title  8586   3890  marketing executive    91\n",
       "industry   8586      4                   IT  4746"
      ]
     },
     "execution_count": 12,
     "metadata": {},
     "output_type": "execute_result"
    }
   ],
   "source": [
    "#Data columns count, unique values and frequency of most occuring records \n",
    "data[data_heads].describe().T"
   ]
  },
  {
   "cell_type": "code",
   "execution_count": 13,
   "id": "4ac6f031",
   "metadata": {},
   "outputs": [
    {
     "data": {
      "text/plain": [
       "job title                                    industry \n",
       "marketing executive                          Marketing    90\n",
       "trainee network technician                   IT           53\n",
       "software developer                           IT           52\n",
       "php developer                                IT           52\n",
       "marketing manager                            Marketing    46\n",
       "digital marketing executive                  Marketing    45\n",
       "trainee it security technician               IT           45\n",
       "social media specialist                      Marketing    43\n",
       "trainee it support - no experience required  IT           42\n",
       "english teacher                              Education    40\n",
       "business analyst                             IT           39\n",
       "marketing assistant                          Marketing    38\n",
       ".net developer                               IT           37\n",
       "software engineer                            IT           33\n",
       "graphic designer                             Marketing    31\n",
       "data analyst                                 IT           29\n",
       "senior .net developer                        IT           28\n",
       "infrastructure engineer                      IT           28\n",
       "teaching assistant                           Education    27\n",
       "front end developer                          IT           26\n",
       "devops engineer                              IT           25\n",
       "it support analyst                           IT           24\n",
       "javascript developer                         IT           24\n",
       "java developer                               IT           22\n",
       "senior software engineer                     IT           21\n",
       "account manager                              Marketing    21\n",
       "it support engineer                          IT           21\n",
       "science teacher                              Education    21\n",
       "project manager                              IT           20\n",
       "c# developer                                 IT           20\n",
       "dtype: int64"
      ]
     },
     "execution_count": 13,
     "metadata": {},
     "output_type": "execute_result"
    }
   ],
   "source": [
    "data[data_heads].value_counts()[:30]"
   ]
  },
  {
   "cell_type": "code",
   "execution_count": 14,
   "id": "209816cd",
   "metadata": {},
   "outputs": [
    {
     "data": {
      "image/png": "[encoded data removed]",
      "text/plain": [
       "<Figure size 576x432 with 1 Axes>"
      ]
     },
     "metadata": {
      "needs_background": "light"
     },
     "output_type": "display_data"
    }
   ],
   "source": [
    "#plotting the most frequent titles by their probability\n",
    "prob = data[data_heads].value_counts(normalize=True)[:30]\n",
    "plt.figure(figsize=(8,6))\n",
    "prob.plot(kind='bar')\n",
    "plt.xticks(rotation=90)\n",
    "plt.show()"
   ]
  },
  {
   "cell_type": "code",
   "execution_count": 15,
   "id": "6ee3b700",
   "metadata": {},
   "outputs": [
    {
     "data": {
      "image/png": "[encoded data removed]",
      "text/plain": [
       "<Figure size 432x288 with 1 Axes>"
      ]
     },
     "metadata": {
      "needs_background": "light"
     },
     "output_type": "display_data"
    }
   ],
   "source": [
    "#counting the labels\n",
    "sns.countplot(data[\"industry\"])\n",
    "plt.show()"
   ]
  },
  {
   "cell_type": "markdown",
   "id": "e06dc6ea",
   "metadata": {},
   "source": [
    "As seen from the plot there is a significant class imbalance between the IT label and the rest of the labels"
   ]
  },
  {
   "cell_type": "markdown",
   "id": "0ff5a6da",
   "metadata": {},
   "source": [
    "<center> <h1>Preprocessing </h1> </center>\n",
    "\n",
    "<br><b>Preprocessing will consist of two main parts</b><br>\n",
    "<br>-Text preprocessing<br>\n",
    "<br>-Data preprocessing<br>"
   ]
  },
  {
   "cell_type": "markdown",
   "id": "03dee38d",
   "metadata": {},
   "source": [
    "## Text Preprocessing"
   ]
  },
  {
   "cell_type": "markdown",
   "id": "a551b491",
   "metadata": {},
   "source": [
    "<br><b>Removing Stop Words</b><br>\n",
    "<br>-Stop words are common words such as a, and, and the which have little significance to our job titles<br>\n",
    "<br>-By combining the simple_preprocess function from gensim library and the stop_words set from the NLTK library to filter stopwords out of each job title."
   ]
  },
  {
   "cell_type": "code",
   "execution_count": 16,
   "id": "aaeca3c0",
   "metadata": {},
   "outputs": [],
   "source": [
    "stop_words = set(stopwords.words('english'))"
   ]
  },
  {
   "cell_type": "code",
   "execution_count": 17,
   "id": "cd67acd9",
   "metadata": {},
   "outputs": [],
   "source": [
    "def text_cleaning(frase):\n",
    "    result = \"\"\n",
    "    for token in simple_preprocess(frase):\n",
    "        if token not in stop_words and len(token) >= 2:\n",
    "            token = token.lower() \n",
    "            result += (token + \" \")    \n",
    "    return result"
   ]
  },
  {
   "cell_type": "code",
   "execution_count": 18,
   "id": "62c78277",
   "metadata": {},
   "outputs": [],
   "source": [
    "data[\"job title\"] = data[\"job title\"].map(text_cleaning)"
   ]
  },
  {
   "cell_type": "markdown",
   "id": "a30252e9",
   "metadata": {},
   "source": [
    "## Data preprocessing"
   ]
  },
  {
   "cell_type": "markdown",
   "id": "0dff8936",
   "metadata": {},
   "source": [
    "<br><b>Dealing with Class imbalance</b><br>\n",
    "\n",
    "As noticed before in the EDA there is a signifcant class imbalance in the target labels.\n",
    "<br>This will be rectified using the SMOTE library which is designed specifically to deal with Imbalanced Data.\n",
    "<br>The SMOTE function will be added to the pipeline."
   ]
  },
  {
   "cell_type": "code",
   "execution_count": 19,
   "id": "28c9c669",
   "metadata": {},
   "outputs": [],
   "source": [
    "#Using Test-Train split for splitting the data\n",
    "\n",
    "X_train, X_test, y_train, y_test = train_test_split(data['job title'],data['industry'], test_size=0.2)"
   ]
  },
  {
   "cell_type": "markdown",
   "id": "bd72253b",
   "metadata": {},
   "source": [
    "<br><center> <h1>Pipeline Steps </h1> </center><br>\n",
    "<br><b>1) TfidfVectorizer()</b> : Convert a collection of raw documents to a matrix of TF-IDF features.<br>\n",
    "<br>In order to use this data for machine learning, we need to be able to convert the content of each string into a vector of numbers.<br>\n",
    "<br>For this we will use the TF-IDF vectorizerand.<br>\n",
    "<br><b>2) SMOTE():</b>  Synthetic Minority Oversampling Technique.<br>\n",
    "<br> solve the problem of imbalanced data by oversampling the examples in the minority class.\n",
    "\n",
    "<br><b>3) Machine Learning Models :</b><br>\n",
    "<br>Using three different machine learning models for training<br>\n",
    "<br>-<b>MultinomialNB:</b> Multinomial Naive Bayes classifier.<br>\n",
    "<br>naive Bayes classifiers are a family of simple “probabilistic classifiers” based on applying Bayes’ theorem with strong (naive) independence assumptions between the features.<br>\n",
    "<br>-<b>RandomForestClassifier:</b><br>\n",
    "<br> Decision trees allow you to develop classification systems that predict or classify future observations based on a set of decision rules, a random forest is an ensemble of decision trees.<br>\n",
    "<br>-<b>SVC:</b> C-Support Vector Classification.<br>\n",
    "<br>Support vector machines (SVMs) are a set of supervised learning methods used for classification which is very effective in high dimensional spaces and is one the most popular learning methods used for NLP tasks<br>"
   ]
  },
  {
   "cell_type": "code",
   "execution_count": 20,
   "id": "a41ee2fd",
   "metadata": {},
   "outputs": [],
   "source": [
    "#Creating Three pipelines for each machine learning model\n",
    "\n",
    "model_mb = make_pipeline(TfidfVectorizer(),SMOTE(random_state=2), MultinomialNB())\n",
    "model_svc = make_pipeline(TfidfVectorizer(),SMOTE(random_state=2),  SVC())\n",
    "model_rf = make_pipeline(TfidfVectorizer(),SMOTE(random_state=2),  RandomForestClassifier())"
   ]
  },
  {
   "cell_type": "code",
   "execution_count": 21,
   "id": "9f2b03d0",
   "metadata": {},
   "outputs": [
    {
     "data": {
      "text/plain": [
       "Pipeline(steps=[('tfidfvectorizer', TfidfVectorizer()),\n",
       "                ('smote', SMOTE(random_state=2)),\n",
       "                ('randomforestclassifier', RandomForestClassifier())])"
      ]
     },
     "execution_count": 21,
     "metadata": {},
     "output_type": "execute_result"
    }
   ],
   "source": [
    "#Fitting the models\n",
    "\n",
    "model_mb.fit(X_train, y_train)\n",
    "model_svc.fit(X_train, y_train)\n",
    "model_rf.fit(X_train, y_train)"
   ]
  },
  {
   "cell_type": "code",
   "execution_count": 22,
   "id": "f6e5b185",
   "metadata": {},
   "outputs": [],
   "source": [
    "#predicting labels\n",
    "\n",
    "labels_mb = model_mb.predict(X_test)\n",
    "labels_svc = model_svc.predict(X_test)\n",
    "labels_rf = model_rf.predict(X_test)"
   ]
  },
  {
   "cell_type": "code",
   "execution_count": 23,
   "id": "707ce6cf",
   "metadata": {},
   "outputs": [
    {
     "name": "stdout",
     "output_type": "stream",
     "text": [
      "Multinomial Naive Bayes Classification Report\n",
      "\n",
      "              precision    recall  f1-score   support\n",
      "\n",
      " Accountancy       0.67      0.93      0.78        69\n",
      "   Education       0.94      0.87      0.90       283\n",
      "          IT       0.97      0.93      0.95       965\n",
      "   Marketing       0.83      0.90      0.86       401\n",
      "\n",
      "    accuracy                           0.91      1718\n",
      "   macro avg       0.85      0.91      0.87      1718\n",
      "weighted avg       0.92      0.91      0.91      1718\n",
      "\n",
      "\n",
      "Support Vector Classifier Classification Report\n",
      "\n",
      "              precision    recall  f1-score   support\n",
      "\n",
      " Accountancy       0.84      0.84      0.84        69\n",
      "   Education       0.96      0.88      0.92       283\n",
      "          IT       0.96      0.97      0.97       965\n",
      "   Marketing       0.89      0.91      0.90       401\n",
      "\n",
      "    accuracy                           0.94      1718\n",
      "   macro avg       0.91      0.90      0.91      1718\n",
      "weighted avg       0.94      0.94      0.94      1718\n",
      "\n",
      "\n",
      "Random Forest Classifier Classification Report\n",
      "\n",
      "              precision    recall  f1-score   support\n",
      "\n",
      " Accountancy       0.83      0.86      0.84        69\n",
      "   Education       0.95      0.88      0.91       283\n",
      "          IT       0.96      0.97      0.96       965\n",
      "   Marketing       0.89      0.90      0.89       401\n",
      "\n",
      "    accuracy                           0.93      1718\n",
      "   macro avg       0.91      0.90      0.90      1718\n",
      "weighted avg       0.93      0.93      0.93      1718\n",
      "\n"
     ]
    }
   ],
   "source": [
    "#Evaluating Model Accuracy\n",
    "\n",
    "from sklearn.metrics import classification_report\n",
    "print(\"Multinomial Naive Bayes Classification Report\\n\")\n",
    "print(classification_report(y_test, labels_mb))\n",
    "print(\"\\nSupport Vector Classifier Classification Report\\n\")\n",
    "print(classification_report(y_test, labels_svc ))\n",
    "print(\"\\nRandom Forest Classifier Classification Report\\n\")\n",
    "print(classification_report(y_test, labels_rf))"
   ]
  },
  {
   "cell_type": "markdown",
   "id": "bb5b2367",
   "metadata": {},
   "source": [
    "## Conclusion Support Vector Classifier\n",
    "<br>SVC has the best overall accuracy, and a higher f1 score on average for all of the labels.<br>\n",
    "<br>SVC will be the model of choice.<br>"
   ]
  },
  {
   "cell_type": "markdown",
   "id": "c436c0fc",
   "metadata": {},
   "source": [
    "## Improving the Model"
   ]
  },
  {
   "cell_type": "markdown",
   "id": "c1495d74",
   "metadata": {},
   "source": [
    "<br><b>-Algorithm Tuning:</b><br> \n",
    "<br> through perfroming a GridSearch with cross-validation on different SVC parameters the accuracy could be further increased<br>\n",
    "<br><b>-Larger dataset:</b><br> \n",
    "<br>Through providing the model with a larger dataset for training the model could be further increased in accuracy not necessarily for SVM but for all models used.<br>"
   ]
  },
  {
   "cell_type": "markdown",
   "id": "6bb2d2dc",
   "metadata": {},
   "source": [
    "## Limitations"
   ]
  },
  {
   "cell_type": "markdown",
   "id": "a2a38c44",
   "metadata": {},
   "source": [
    "<br><b>-Overlapping Targets:</b><br> \n",
    "<br> SVM does not perform very well when the data set has more noise i.e. target classes are overlapping.<br>\n",
    "<br><b>-Duplicated Data:</b><br> \n",
    "<br> Diffculty in identifying duplicated data which adds to the model confusion.<br>"
   ]
  },
  {
   "cell_type": "markdown",
   "id": "8ac80567",
   "metadata": {},
   "source": [
    "## References and grabs."
   ]
  },
  {
   "cell_type": "markdown",
   "id": "b01fd94d",
   "metadata": {},
   "source": [
    "<br><a href=\"https://towardsdatascience.com/do-you-know-how-to-choose-the-right-machine-learning-algorithm-among-7-different-types-295d0b0c7f60\">Algorithm Comparisons.</a><br>\n",
    "<br><a href=\"https://towardsdatascience.com/build-and-compare-3-models-nlp-sentiment-prediction-67320979de61\">NLP Models Comparisons.</a><br>\n",
    "<br><a href=\"https://towardsdatascience.com/nlp-in-python-data-cleaning-6313a404a470\">Cleaning Data NLP.</a><br>\n",
    "<br><a href=\"https://towardsdatascience.com/accuracy-precision-recall-or-f1-331fb37c5cb9\">Accuracy-precision-recall-or-f1 for evaluating classification models.</a><br>\n",
    "<br><a href=\"https://www.researchgate.net/post/Is-it-possible-to-improve-SVM-evaluation\">Improving SVM.</a><br>"
   ]
  },
  {
   "cell_type": "code",
   "execution_count": 24,
   "id": "58e4dbe7",
   "metadata": {},
   "outputs": [],
   "source": [
    "#dumping the model\n",
    "import pickle\n",
    "pickle.dump(model_svc, open(r'../01_Code/model.pkl','wb'))"
   ]
  }
 ],
 "metadata": {
  "kernelspec": {
   "display_name": "Python 3 (ipykernel)",
   "language": "python",
   "name": "python3"
  },
  "language_info": {
   "codemirror_mode": {
    "name": "ipython",
    "version": 3
   },
   "file_extension": ".py",
   "mimetype": "text/x-python",
   "name": "python",
   "nbconvert_exporter": "python",
   "pygments_lexer": "ipython3",
   "version": "3.9.6"
  }
 },
 "nbformat": 4,
 "nbformat_minor": 5
}
